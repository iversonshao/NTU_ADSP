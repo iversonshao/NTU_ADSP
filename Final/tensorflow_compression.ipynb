{
  "cells": [
    {
      "cell_type": "code",
      "execution_count": 2,
      "metadata": {
        "colab": {
          "base_uri": "https://localhost:8080/"
        },
        "id": "cCc8V3l-zOHr",
        "outputId": "55738ead-91ca-44fe-8a08-08e3238e63eb"
      },
      "outputs": [
        {
          "name": "stdout",
          "output_type": "stream",
          "text": [
            "Collecting tensorflow-compression\n",
            "  Downloading tensorflow_compression-2.14.1-cp310-cp310-manylinux_2_17_x86_64.manylinux2014_x86_64.whl (262 kB)\n",
            "\u001b[2K     \u001b[90m━━━━━━━━━━━━━━━━━━━━━━━━━━━━━━━━━━━━━━━━\u001b[0m \u001b[32m262.5/262.5 kB\u001b[0m \u001b[31m4.6 MB/s\u001b[0m eta \u001b[36m0:00:00\u001b[0m\n",
            "\u001b[?25hRequirement already satisfied: scipy~=1.11.0 in /usr/local/lib/python3.10/dist-packages (from tensorflow-compression) (1.11.4)\n",
            "Collecting tensorflow~=2.14.0 (from tensorflow-compression)\n",
            "  Downloading tensorflow-2.14.1-cp310-cp310-manylinux_2_17_x86_64.manylinux2014_x86_64.whl (489.9 MB)\n",
            "\u001b[2K     \u001b[90m━━━━━━━━━━━━━━━━━━━━━━━━━━━━━━━━━━━━━━━━\u001b[0m \u001b[32m489.9/489.9 MB\u001b[0m \u001b[31m3.0 MB/s\u001b[0m eta \u001b[36m0:00:00\u001b[0m\n",
            "\u001b[?25hCollecting tensorflow-probability<0.23,>=0.15 (from tensorflow-compression)\n",
            "  Downloading tensorflow_probability-0.22.1-py2.py3-none-any.whl (6.9 MB)\n",
            "\u001b[2K     \u001b[90m━━━━━━━━━━━━━━━━━━━━━━━━━━━━━━━━━━━━━━━━\u001b[0m \u001b[32m6.9/6.9 MB\u001b[0m \u001b[31m85.7 MB/s\u001b[0m eta \u001b[36m0:00:00\u001b[0m\n",
            "\u001b[?25hRequirement already satisfied: numpy<1.28.0,>=1.21.6 in /usr/local/lib/python3.10/dist-packages (from scipy~=1.11.0->tensorflow-compression) (1.25.2)\n",
            "Requirement already satisfied: absl-py>=1.0.0 in /usr/local/lib/python3.10/dist-packages (from tensorflow~=2.14.0->tensorflow-compression) (1.4.0)\n",
            "Requirement already satisfied: astunparse>=1.6.0 in /usr/local/lib/python3.10/dist-packages (from tensorflow~=2.14.0->tensorflow-compression) (1.6.3)\n",
            "Requirement already satisfied: flatbuffers>=23.5.26 in /usr/local/lib/python3.10/dist-packages (from tensorflow~=2.14.0->tensorflow-compression) (24.3.25)\n",
            "Requirement already satisfied: gast!=0.5.0,!=0.5.1,!=0.5.2,>=0.2.1 in /usr/local/lib/python3.10/dist-packages (from tensorflow~=2.14.0->tensorflow-compression) (0.5.4)\n",
            "Requirement already satisfied: google-pasta>=0.1.1 in /usr/local/lib/python3.10/dist-packages (from tensorflow~=2.14.0->tensorflow-compression) (0.2.0)\n",
            "Requirement already satisfied: h5py>=2.9.0 in /usr/local/lib/python3.10/dist-packages (from tensorflow~=2.14.0->tensorflow-compression) (3.9.0)\n",
            "Requirement already satisfied: libclang>=13.0.0 in /usr/local/lib/python3.10/dist-packages (from tensorflow~=2.14.0->tensorflow-compression) (18.1.1)\n",
            "Requirement already satisfied: ml-dtypes==0.2.0 in /usr/local/lib/python3.10/dist-packages (from tensorflow~=2.14.0->tensorflow-compression) (0.2.0)\n",
            "Requirement already satisfied: opt-einsum>=2.3.2 in /usr/local/lib/python3.10/dist-packages (from tensorflow~=2.14.0->tensorflow-compression) (3.3.0)\n",
            "Requirement already satisfied: packaging in /usr/local/lib/python3.10/dist-packages (from tensorflow~=2.14.0->tensorflow-compression) (24.1)\n",
            "Requirement already satisfied: protobuf!=4.21.0,!=4.21.1,!=4.21.2,!=4.21.3,!=4.21.4,!=4.21.5,<5.0.0dev,>=3.20.3 in /usr/local/lib/python3.10/dist-packages (from tensorflow~=2.14.0->tensorflow-compression) (3.20.3)\n",
            "Requirement already satisfied: setuptools in /usr/local/lib/python3.10/dist-packages (from tensorflow~=2.14.0->tensorflow-compression) (67.7.2)\n",
            "Requirement already satisfied: six>=1.12.0 in /usr/local/lib/python3.10/dist-packages (from tensorflow~=2.14.0->tensorflow-compression) (1.16.0)\n",
            "Requirement already satisfied: termcolor>=1.1.0 in /usr/local/lib/python3.10/dist-packages (from tensorflow~=2.14.0->tensorflow-compression) (2.4.0)\n",
            "Requirement already satisfied: typing-extensions>=3.6.6 in /usr/local/lib/python3.10/dist-packages (from tensorflow~=2.14.0->tensorflow-compression) (4.12.2)\n",
            "Requirement already satisfied: wrapt<1.15,>=1.11.0 in /usr/local/lib/python3.10/dist-packages (from tensorflow~=2.14.0->tensorflow-compression) (1.14.1)\n",
            "Requirement already satisfied: tensorflow-io-gcs-filesystem>=0.23.1 in /usr/local/lib/python3.10/dist-packages (from tensorflow~=2.14.0->tensorflow-compression) (0.37.0)\n",
            "Requirement already satisfied: grpcio<2.0,>=1.24.3 in /usr/local/lib/python3.10/dist-packages (from tensorflow~=2.14.0->tensorflow-compression) (1.64.1)\n",
            "Collecting tensorboard<2.15,>=2.14 (from tensorflow~=2.14.0->tensorflow-compression)\n",
            "  Downloading tensorboard-2.14.1-py3-none-any.whl (5.5 MB)\n",
            "\u001b[2K     \u001b[90m━━━━━━━━━━━━━━━━━━━━━━━━━━━━━━━━━━━━━━━━\u001b[0m \u001b[32m5.5/5.5 MB\u001b[0m \u001b[31m91.4 MB/s\u001b[0m eta \u001b[36m0:00:00\u001b[0m\n",
            "\u001b[?25hCollecting tensorflow-estimator<2.15,>=2.14.0 (from tensorflow~=2.14.0->tensorflow-compression)\n",
            "  Downloading tensorflow_estimator-2.14.0-py2.py3-none-any.whl (440 kB)\n",
            "\u001b[2K     \u001b[90m━━━━━━━━━━━━━━━━━━━━━━━━━━━━━━━━━━━━━━━━\u001b[0m \u001b[32m440.7/440.7 kB\u001b[0m \u001b[31m44.9 MB/s\u001b[0m eta \u001b[36m0:00:00\u001b[0m\n",
            "\u001b[?25hCollecting keras<2.15,>=2.14.0 (from tensorflow~=2.14.0->tensorflow-compression)\n",
            "  Downloading keras-2.14.0-py3-none-any.whl (1.7 MB)\n",
            "\u001b[2K     \u001b[90m━━━━━━━━━━━━━━━━━━━━━━━━━━━━━━━━━━━━━━━━\u001b[0m \u001b[32m1.7/1.7 MB\u001b[0m \u001b[31m80.1 MB/s\u001b[0m eta \u001b[36m0:00:00\u001b[0m\n",
            "\u001b[?25hRequirement already satisfied: decorator in /usr/local/lib/python3.10/dist-packages (from tensorflow-probability<0.23,>=0.15->tensorflow-compression) (4.4.2)\n",
            "Requirement already satisfied: cloudpickle>=1.3 in /usr/local/lib/python3.10/dist-packages (from tensorflow-probability<0.23,>=0.15->tensorflow-compression) (2.2.1)\n",
            "Requirement already satisfied: dm-tree in /usr/local/lib/python3.10/dist-packages (from tensorflow-probability<0.23,>=0.15->tensorflow-compression) (0.1.8)\n",
            "Requirement already satisfied: wheel<1.0,>=0.23.0 in /usr/local/lib/python3.10/dist-packages (from astunparse>=1.6.0->tensorflow~=2.14.0->tensorflow-compression) (0.43.0)\n",
            "Requirement already satisfied: google-auth<3,>=1.6.3 in /usr/local/lib/python3.10/dist-packages (from tensorboard<2.15,>=2.14->tensorflow~=2.14.0->tensorflow-compression) (2.27.0)\n",
            "Collecting google-auth-oauthlib<1.1,>=0.5 (from tensorboard<2.15,>=2.14->tensorflow~=2.14.0->tensorflow-compression)\n",
            "  Downloading google_auth_oauthlib-1.0.0-py2.py3-none-any.whl (18 kB)\n",
            "Requirement already satisfied: markdown>=2.6.8 in /usr/local/lib/python3.10/dist-packages (from tensorboard<2.15,>=2.14->tensorflow~=2.14.0->tensorflow-compression) (3.6)\n",
            "Requirement already satisfied: requests<3,>=2.21.0 in /usr/local/lib/python3.10/dist-packages (from tensorboard<2.15,>=2.14->tensorflow~=2.14.0->tensorflow-compression) (2.31.0)\n",
            "Requirement already satisfied: tensorboard-data-server<0.8.0,>=0.7.0 in /usr/local/lib/python3.10/dist-packages (from tensorboard<2.15,>=2.14->tensorflow~=2.14.0->tensorflow-compression) (0.7.2)\n",
            "Requirement already satisfied: werkzeug>=1.0.1 in /usr/local/lib/python3.10/dist-packages (from tensorboard<2.15,>=2.14->tensorflow~=2.14.0->tensorflow-compression) (3.0.3)\n",
            "Requirement already satisfied: cachetools<6.0,>=2.0.0 in /usr/local/lib/python3.10/dist-packages (from google-auth<3,>=1.6.3->tensorboard<2.15,>=2.14->tensorflow~=2.14.0->tensorflow-compression) (5.3.3)\n",
            "Requirement already satisfied: pyasn1-modules>=0.2.1 in /usr/local/lib/python3.10/dist-packages (from google-auth<3,>=1.6.3->tensorboard<2.15,>=2.14->tensorflow~=2.14.0->tensorflow-compression) (0.4.0)\n",
            "Requirement already satisfied: rsa<5,>=3.1.4 in /usr/local/lib/python3.10/dist-packages (from google-auth<3,>=1.6.3->tensorboard<2.15,>=2.14->tensorflow~=2.14.0->tensorflow-compression) (4.9)\n",
            "Requirement already satisfied: requests-oauthlib>=0.7.0 in /usr/local/lib/python3.10/dist-packages (from google-auth-oauthlib<1.1,>=0.5->tensorboard<2.15,>=2.14->tensorflow~=2.14.0->tensorflow-compression) (1.3.1)\n",
            "Requirement already satisfied: charset-normalizer<4,>=2 in /usr/local/lib/python3.10/dist-packages (from requests<3,>=2.21.0->tensorboard<2.15,>=2.14->tensorflow~=2.14.0->tensorflow-compression) (3.3.2)\n",
            "Requirement already satisfied: idna<4,>=2.5 in /usr/local/lib/python3.10/dist-packages (from requests<3,>=2.21.0->tensorboard<2.15,>=2.14->tensorflow~=2.14.0->tensorflow-compression) (3.7)\n",
            "Requirement already satisfied: urllib3<3,>=1.21.1 in /usr/local/lib/python3.10/dist-packages (from requests<3,>=2.21.0->tensorboard<2.15,>=2.14->tensorflow~=2.14.0->tensorflow-compression) (2.0.7)\n",
            "Requirement already satisfied: certifi>=2017.4.17 in /usr/local/lib/python3.10/dist-packages (from requests<3,>=2.21.0->tensorboard<2.15,>=2.14->tensorflow~=2.14.0->tensorflow-compression) (2024.6.2)\n",
            "Requirement already satisfied: MarkupSafe>=2.1.1 in /usr/local/lib/python3.10/dist-packages (from werkzeug>=1.0.1->tensorboard<2.15,>=2.14->tensorflow~=2.14.0->tensorflow-compression) (2.1.5)\n",
            "Requirement already satisfied: pyasn1<0.7.0,>=0.4.6 in /usr/local/lib/python3.10/dist-packages (from pyasn1-modules>=0.2.1->google-auth<3,>=1.6.3->tensorboard<2.15,>=2.14->tensorflow~=2.14.0->tensorflow-compression) (0.6.0)\n",
            "Requirement already satisfied: oauthlib>=3.0.0 in /usr/local/lib/python3.10/dist-packages (from requests-oauthlib>=0.7.0->google-auth-oauthlib<1.1,>=0.5->tensorboard<2.15,>=2.14->tensorflow~=2.14.0->tensorflow-compression) (3.2.2)\n",
            "Installing collected packages: tensorflow-probability, tensorflow-estimator, keras, google-auth-oauthlib, tensorboard, tensorflow, tensorflow-compression\n",
            "  Attempting uninstall: tensorflow-probability\n",
            "    Found existing installation: tensorflow-probability 0.23.0\n",
            "    Uninstalling tensorflow-probability-0.23.0:\n",
            "      Successfully uninstalled tensorflow-probability-0.23.0\n",
            "  Attempting uninstall: tensorflow-estimator\n",
            "    Found existing installation: tensorflow-estimator 2.15.0\n",
            "    Uninstalling tensorflow-estimator-2.15.0:\n",
            "      Successfully uninstalled tensorflow-estimator-2.15.0\n",
            "  Attempting uninstall: keras\n",
            "    Found existing installation: keras 2.15.0\n",
            "    Uninstalling keras-2.15.0:\n",
            "      Successfully uninstalled keras-2.15.0\n",
            "  Attempting uninstall: google-auth-oauthlib\n",
            "    Found existing installation: google-auth-oauthlib 1.2.0\n",
            "    Uninstalling google-auth-oauthlib-1.2.0:\n",
            "      Successfully uninstalled google-auth-oauthlib-1.2.0\n",
            "  Attempting uninstall: tensorboard\n",
            "    Found existing installation: tensorboard 2.15.2\n",
            "    Uninstalling tensorboard-2.15.2:\n",
            "      Successfully uninstalled tensorboard-2.15.2\n",
            "  Attempting uninstall: tensorflow\n",
            "    Found existing installation: tensorflow 2.15.0\n",
            "    Uninstalling tensorflow-2.15.0:\n",
            "      Successfully uninstalled tensorflow-2.15.0\n",
            "\u001b[31mERROR: pip's dependency resolver does not currently take into account all the packages that are installed. This behaviour is the source of the following dependency conflicts.\n",
            "tf-keras 2.15.1 requires tensorflow<2.16,>=2.15, but you have tensorflow 2.14.1 which is incompatible.\u001b[0m\u001b[31m\n",
            "\u001b[0mSuccessfully installed google-auth-oauthlib-1.0.0 keras-2.14.0 tensorboard-2.14.1 tensorflow-2.14.1 tensorflow-compression-2.14.1 tensorflow-estimator-2.14.0 tensorflow-probability-0.22.1\n",
            "Collecting tf-keras-vis\n",
            "  Downloading tf_keras_vis-0.8.7-py3-none-any.whl (52 kB)\n",
            "\u001b[2K     \u001b[90m━━━━━━━━━━━━━━━━━━━━━━━━━━━━━━━━━━━━━━━━\u001b[0m \u001b[32m52.5/52.5 kB\u001b[0m \u001b[31m2.2 MB/s\u001b[0m eta \u001b[36m0:00:00\u001b[0m\n",
            "\u001b[?25hRequirement already satisfied: scipy in /usr/local/lib/python3.10/dist-packages (from tf-keras-vis) (1.11.4)\n",
            "Requirement already satisfied: pillow in /usr/local/lib/python3.10/dist-packages (from tf-keras-vis) (9.4.0)\n",
            "Collecting deprecated (from tf-keras-vis)\n",
            "  Downloading Deprecated-1.2.14-py2.py3-none-any.whl (9.6 kB)\n",
            "Requirement already satisfied: imageio in /usr/local/lib/python3.10/dist-packages (from tf-keras-vis) (2.31.6)\n",
            "Requirement already satisfied: packaging in /usr/local/lib/python3.10/dist-packages (from tf-keras-vis) (24.1)\n",
            "Requirement already satisfied: wrapt<2,>=1.10 in /usr/local/lib/python3.10/dist-packages (from deprecated->tf-keras-vis) (1.14.1)\n",
            "Requirement already satisfied: numpy in /usr/local/lib/python3.10/dist-packages (from imageio->tf-keras-vis) (1.25.2)\n",
            "Installing collected packages: deprecated, tf-keras-vis\n",
            "Successfully installed deprecated-1.2.14 tf-keras-vis-0.8.7\n"
          ]
        }
      ],
      "source": [
        "!pip install tensorflow-compression\n",
        "!pip install tf-keras-vis"
      ]
    },
    {
      "cell_type": "code",
      "execution_count": 3,
      "metadata": {
        "colab": {
          "base_uri": "https://localhost:8080/"
        },
        "id": "uREGAShFlkyY",
        "outputId": "e66e020f-fa45-433c-b201-a0cacece2b41"
      },
      "outputs": [
        {
          "name": "stdout",
          "output_type": "stream",
          "text": [
            "/content\n"
          ]
        }
      ],
      "source": [
        "%cd /content/"
      ]
    },
    {
      "cell_type": "code",
      "execution_count": 4,
      "metadata": {
        "colab": {
          "base_uri": "https://localhost:8080/"
        },
        "id": "Ut2PcPxqhpJX",
        "outputId": "7f7b796d-aef3-4651-a1f3-f4acfa2840e6"
      },
      "outputs": [
        {
          "name": "stdout",
          "output_type": "stream",
          "text": [
            "Cloning into '/tfc'...\n",
            "remote: Enumerating objects: 3136, done.\u001b[K\n",
            "remote: Counting objects: 100% (557/557), done.\u001b[K\n",
            "remote: Compressing objects: 100% (228/228), done.\u001b[K\n",
            "remote: Total 3136 (delta 345), reused 462 (delta 324), pack-reused 2579\u001b[K\n",
            "Receiving objects: 100% (3136/3136), 1.42 MiB | 3.67 MiB/s, done.\n",
            "Resolving deltas: 100% (2090/2090), done.\n",
            "/tfc/models\n"
          ]
        }
      ],
      "source": [
        "![[ -e /tfc ]] || git clone https://github.com/tensorflow/compression /tfc\n",
        "%cd /tfc/models\n",
        "import tfci  # Check if tfci.py is available."
      ]
    },
    {
      "cell_type": "code",
      "execution_count": 5,
      "metadata": {
        "colab": {
          "base_uri": "https://localhost:8080/"
        },
        "id": "5nZPejahzVtY",
        "outputId": "9157d1f8-a4e2-4ec0-908a-70a19d3952d6"
      },
      "outputs": [
        {
          "name": "stdout",
          "output_type": "stream",
          "text": [
            "WARNING: No GPU found. Might be slow!\n"
          ]
        }
      ],
      "source": [
        "import tensorflow as tf\n",
        "\n",
        "if not tf.config.list_physical_devices('GPU'):\n",
        "  print('WARNING: No GPU found. Might be slow!')\n",
        "else:\n",
        "  print('Found GPU.')"
      ]
    },
    {
      "cell_type": "code",
      "execution_count": 6,
      "metadata": {
        "colab": {
          "base_uri": "https://localhost:8080/"
        },
        "id": "4lVdltRztBW0",
        "outputId": "ea014e63-c8bc-4322-e936-ba393af22c2f"
      },
      "outputs": [
        {
          "name": "stdout",
          "output_type": "stream",
          "text": [
            "2024-06-15 06:37:08.386230: E tensorflow/compiler/xla/stream_executor/cuda/cuda_dnn.cc:9342] Unable to register cuDNN factory: Attempting to register factory for plugin cuDNN when one has already been registered\n",
            "2024-06-15 06:37:08.386307: E tensorflow/compiler/xla/stream_executor/cuda/cuda_fft.cc:609] Unable to register cuFFT factory: Attempting to register factory for plugin cuFFT when one has already been registered\n",
            "2024-06-15 06:37:08.386370: E tensorflow/compiler/xla/stream_executor/cuda/cuda_blas.cc:1518] Unable to register cuBLAS factory: Attempting to register factory for plugin cuBLAS when one has already been registered\n",
            "2024-06-15 06:37:10.300875: W tensorflow/compiler/tf2tensorrt/utils/py_utils.cc:38] TF-TRT Warning: Could not find TensorRT\n",
            "The following models are available:\n",
            "\n",
            "* Models published in:\n",
            "  F. Mentzer, G. Toderici, M. Tschannen, E. Agustsson:\n",
            "  \"High-Fidelity Generative Image Compression\"\n",
            "  Adv. in Neural Information Processing Systems 33 (NeurIPS 2020)\n",
            "\n",
            "  hific-lo\n",
            "  hific-mi\n",
            "  hific-hi\n",
            "\n",
            "  These are the GAN-based models that were used for the paper and the demo\n",
            "  website (https://hific.github.io/). The target bitrates of these models are\n",
            "  0.14 bpp for \"lo\", 0.3 bpp for \"mi\", and 0.45 bpp for \"hi\".\n",
            "\n",
            "* Models published in:\n",
            "  D. Minnen, S. Singh:\n",
            "  \"Channel-wise Autoregressive Entropy Models for Learned Image Compression\"\n",
            "  Int. Conf. on Image Processing (ICIP 2020)\n",
            "\n",
            "  ms2020-cc10-mse-[1-10]\n",
            "  ms2020-cc8-msssim-[1-9]\n",
            "\n",
            "  These are channel-wise autoregressive models optimized for either MSE or\n",
            "  MS-SSIM. The MSE models have 10 splits along the channel dimension so a\n",
            "  latent tensor with 320 channels is split into 10 blocks with 32 channels\n",
            "  each. The MS-SSIM models have eight splits with 40 channels each.\n",
            "\n",
            "  All of the models include latent residual prediction (LRP) and were optimized\n",
            "  for 5,000,000 steps (MSE) or 4,000,000 steps (MS-SSIM) using Adam. The number\n",
            "  at the end of the name (1-10 or 1-9) indicates the quality level where larger\n",
            "  numbers imply higher quality and higher bit rates.\n",
            "\n",
            "  Although not used in the paper, we've been referring to this model as\n",
            "  \"CHARM\" for \"CHannel-wise AutoRegressive Model\".\n",
            "\n",
            "  Note: this model does not use the integer modification described below, so it\n",
            "  may be necessary to disable the GPU in order to reliably encode and decode.\n",
            "  This can be done by setting the environment variable `CUDA_VISIBLE_DEVICES`\n",
            "  to the empty string, e.g., using the command line:\n",
            "  CUDA_VISIBLE_DEVICES='' python tfci.py ...\n",
            "\n",
            "* Models published in:\n",
            "  D. Minnen, J. Ballé, G.D. Toderici:\n",
            "  \"Joint Autoregressive and Hierarchical Priors for Learned Image Compression\"\n",
            "  Adv. in Neural Information Processing Systems 31 (NeurIPS 2018)\n",
            "\n",
            "  mbt2018-mean-mse-[1-8]\n",
            "  mbt2018-mean-msssim-[1-8]\n",
            "\n",
            "  These are hyperprior models with non zero-mean Gaussian conditionals (without\n",
            "  autoregression), optimized for MSE (mean squared error) and MS-SSIM\n",
            "  (multiscale SSIM), respectively. The number 1-8 at the end indicates the\n",
            "  quality level (1: lowest, 8: highest).\n",
            "\n",
            "  While generalizing the hyperprior models to non-zero mean distributions\n",
            "  translates into some compression gains, the gains are not as high as for a\n",
            "  combined autoregressive and hierarchical prior. However, the runtime for\n",
            "  autoregressive priors is generally quite high.\n",
            "\n",
            "* Models published in:\n",
            "  J. Ballé, D. Minnen, S. Singh, S.J. Hwang, N. Johnston:\n",
            "  \"Variational Image Compression with a Scale Hyperprior\"\n",
            "  Int. Conf. on Learning Representations (ICLR), 2018\n",
            "\n",
            "  bmshj2018-factorized-mse-[1-8]\n",
            "  bmshj2018-factorized-msssim-[1-8]\n",
            "  bmshj2018-hyperprior-mse-[1-8]\n",
            "  bmshj2018-hyperprior-msssim-[1-8]\n",
            "\n",
            "  These are the factorized prior and hyperprior models optimized for MSE (mean\n",
            "  squared error) and MS-SSIM (multiscale SSIM), respectively. The number 1-8 at\n",
            "  the end indicates the quality level (1: lowest, 8: highest).\n",
            "\n",
            "  These models demonstrate the bit rate savings achieved by a hierarchical vs.\n",
            "  a factorized prior (entropy model).\n",
            "\n",
            "* Models published in:\n",
            "  J. Ballé:\n",
            "  \"Efficient Nonlinear Transforms for Lossy Image Compression\"\n",
            "  Picture Coding Symposium (PCS), 2018\n",
            "\n",
            "  b2018-leaky_relu-128-[1-4]\n",
            "  b2018-leaky_relu-192-[1-4]\n",
            "  b2018-gdn-128-[1-4]\n",
            "  b2018-gdn-192-[1-4]\n",
            "\n",
            "  These are nonlinear transform coders with factorized priors (entropy models)\n",
            "  optimized for MSE (mean squared error), with either leaky ReLU and GDN\n",
            "  activation functions, and 128 or 192 filters per layer. The number 1-4 at\n",
            "  the end indicates the quality level (1: lowest, 4: highest).\n",
            "\n",
            "  These models demonstrate the higher representational efficiency of GDN vs.\n",
            "  scalar activation functions such as leaky ReLU.\n",
            "\n",
            "Note: all the models using hierarchical/hyperpriors published above include a\n",
            "modification from:\n",
            "J. Ballé, N. Johnston, D. Minnen:\n",
            "\"Integer Networks for Data Compression with Latent-Variable Models\"\n",
            "Int. Conf. on Learning Representations (ICLR), 2019\n",
            "\n",
            "The conditional priors are modified to use integer arithmetic, in order to\n",
            "ensure consistent results across different hardware platforms. Other than this,\n",
            "the models are reproductions of the original models used in the publication.\n",
            "Therefore, performance may differ slightly.\n",
            "\n"
          ]
        }
      ],
      "source": [
        "!python tfci.py models"
      ]
    },
    {
      "cell_type": "code",
      "execution_count": 7,
      "metadata": {
        "colab": {
          "base_uri": "https://localhost:8080/"
        },
        "id": "0MDLOzeut5tX",
        "outputId": "272bbf5b-f409-44c7-f32a-17659629bdd1"
      },
      "outputs": [
        {
          "name": "stdout",
          "output_type": "stream",
          "text": [
            "bls2017.py  bmshj2018.py  hific  lvac  ms2020.py  __pycache__  rdc  tfci.py  toy_sources\n"
          ]
        }
      ],
      "source": [
        "!ls"
      ]
    },
    {
      "cell_type": "code",
      "execution_count": 8,
      "metadata": {
        "colab": {
          "base_uri": "https://localhost:8080/",
          "height": 36
        },
        "id": "EmWnYLjpuucl",
        "outputId": "9b4d5fb2-c84e-4515-b255-6d868c6fb427"
      },
      "outputs": [
        {
          "data": {
            "application/vnd.google.colaboratory.intrinsic+json": {
              "type": "string"
            },
            "text/plain": [
              "'/tfc/models'"
            ]
          },
          "execution_count": 8,
          "metadata": {},
          "output_type": "execute_result"
        }
      ],
      "source": [
        "import os\n",
        "cwd = os.getcwd()\n",
        "cwd"
      ]
    },
    {
      "cell_type": "code",
      "execution_count": 9,
      "metadata": {
        "id": "L3PSeCwLxAgk"
      },
      "outputs": [],
      "source": [
        "import math\n",
        "\n",
        "from torch import Tensor\n",
        "\n",
        "import torch.nn.functional as F\n",
        "\n",
        "\n",
        "\n",
        "def psnr(x: Tensor, x_hat: Tensor) -> float:\n",
        "    return -10 * math.log10(F.mse_loss(x, x_hat).item())\n"
      ]
    },
    {
      "cell_type": "code",
      "execution_count": 10,
      "metadata": {
        "colab": {
          "base_uri": "https://localhost:8080/"
        },
        "id": "xNgL1xOBxqH0",
        "outputId": "bee5a015-311a-4b6c-db98-1f4f5929710d"
      },
      "outputs": [
        {
          "name": "stdout",
          "output_type": "stream",
          "text": [
            "Requirement already satisfied: scikit-image in /usr/local/lib/python3.10/dist-packages (0.19.3)\n",
            "Collecting scikit-image\n",
            "  Downloading scikit_image-0.23.2-cp310-cp310-manylinux_2_17_x86_64.manylinux2014_x86_64.whl (14.7 MB)\n",
            "\u001b[2K     \u001b[90m━━━━━━━━━━━━━━━━━━━━━━━━━━━━━━━━━━━━━━━━\u001b[0m \u001b[32m14.7/14.7 MB\u001b[0m \u001b[31m37.8 MB/s\u001b[0m eta \u001b[36m0:00:00\u001b[0m\n",
            "\u001b[?25hRequirement already satisfied: numpy>=1.23 in /usr/local/lib/python3.10/dist-packages (from scikit-image) (1.25.2)\n",
            "Requirement already satisfied: scipy>=1.9 in /usr/local/lib/python3.10/dist-packages (from scikit-image) (1.11.4)\n",
            "Requirement already satisfied: networkx>=2.8 in /usr/local/lib/python3.10/dist-packages (from scikit-image) (3.3)\n",
            "Requirement already satisfied: pillow>=9.1 in /usr/local/lib/python3.10/dist-packages (from scikit-image) (9.4.0)\n",
            "Collecting imageio>=2.33 (from scikit-image)\n",
            "  Downloading imageio-2.34.1-py3-none-any.whl (313 kB)\n",
            "\u001b[2K     \u001b[90m━━━━━━━━━━━━━━━━━━━━━━━━━━━━━━━━━━━━━━━━\u001b[0m \u001b[32m313.5/313.5 kB\u001b[0m \u001b[31m30.3 MB/s\u001b[0m eta \u001b[36m0:00:00\u001b[0m\n",
            "\u001b[?25hRequirement already satisfied: tifffile>=2022.8.12 in /usr/local/lib/python3.10/dist-packages (from scikit-image) (2024.5.22)\n",
            "Requirement already satisfied: packaging>=21 in /usr/local/lib/python3.10/dist-packages (from scikit-image) (24.1)\n",
            "Requirement already satisfied: lazy-loader>=0.4 in /usr/local/lib/python3.10/dist-packages (from scikit-image) (0.4)\n",
            "Installing collected packages: imageio, scikit-image\n",
            "  Attempting uninstall: imageio\n",
            "    Found existing installation: imageio 2.31.6\n",
            "    Uninstalling imageio-2.31.6:\n",
            "      Successfully uninstalled imageio-2.31.6\n",
            "  Attempting uninstall: scikit-image\n",
            "    Found existing installation: scikit-image 0.19.3\n",
            "    Uninstalling scikit-image-0.19.3:\n",
            "      Successfully uninstalled scikit-image-0.19.3\n",
            "Successfully installed imageio-2.34.1 scikit-image-0.23.2\n"
          ]
        }
      ],
      "source": [
        "!python -m pip install -U scikit-image"
      ]
    },
    {
      "cell_type": "code",
      "execution_count": 11,
      "metadata": {
        "colab": {
          "base_uri": "https://localhost:8080/"
        },
        "id": "r-sM_jEczWzS",
        "outputId": "afad90ad-2199-49e1-b708-bb26aff106be"
      },
      "outputs": [
        {
          "name": "stdout",
          "output_type": "stream",
          "text": [
            "bls2017.py  bmshj2018.py  hific  lvac  ms2020.py  __pycache__  rdc  tfci.py  toy_sources\n"
          ]
        }
      ],
      "source": [
        "!ls"
      ]
    },
    {
      "cell_type": "markdown",
      "metadata": {
        "id": "MjMmf0YP2Vg5"
      },
      "source": [
        "Code to run for 10 images:"
      ]
    },
    {
      "cell_type": "code",
      "execution_count": 12,
      "metadata": {
        "colab": {
          "base_uri": "https://localhost:8080/"
        },
        "id": "xzBgVYMimnby",
        "outputId": "862f8413-2d84-47a3-d881-1d652ac1224c"
      },
      "outputs": [
        {
          "name": "stdout",
          "output_type": "stream",
          "text": [
            "2024-06-15 06:38:45.239504: E tensorflow/compiler/xla/stream_executor/cuda/cuda_dnn.cc:9342] Unable to register cuDNN factory: Attempting to register factory for plugin cuDNN when one has already been registered\n",
            "2024-06-15 06:38:45.239592: E tensorflow/compiler/xla/stream_executor/cuda/cuda_fft.cc:609] Unable to register cuFFT factory: Attempting to register factory for plugin cuFFT when one has already been registered\n",
            "2024-06-15 06:38:45.239646: E tensorflow/compiler/xla/stream_executor/cuda/cuda_blas.cc:1518] Unable to register cuBLAS factory: Attempting to register factory for plugin cuBLAS when one has already been registered\n",
            "2024-06-15 06:38:47.135206: W tensorflow/compiler/tf2tensorrt/utils/py_utils.cc:38] TF-TRT Warning: Could not find TensorRT\n",
            "usage: tfci.py compress [-h] [--helpfull] [--rd_parameter RD_PARAMETER]\n",
            "                        [--rd_parameter_tolerance RD_PARAMETER_TOLERANCE]\n",
            "                        [--target_bpp TARGET_BPP] [--bpp_strict]\n",
            "                        model input_file [output_file]\n",
            "tfci.py compress: error: the following arguments are required: input_file\n",
            "2024-06-15 06:38:51.563585: E tensorflow/compiler/xla/stream_executor/cuda/cuda_dnn.cc:9342] Unable to register cuDNN factory: Attempting to register factory for plugin cuDNN when one has already been registered\n",
            "2024-06-15 06:38:51.563660: E tensorflow/compiler/xla/stream_executor/cuda/cuda_fft.cc:609] Unable to register cuFFT factory: Attempting to register factory for plugin cuFFT when one has already been registered\n",
            "2024-06-15 06:38:51.563772: E tensorflow/compiler/xla/stream_executor/cuda/cuda_blas.cc:1518] Unable to register cuBLAS factory: Attempting to register factory for plugin cuBLAS when one has already been registered\n",
            "2024-06-15 06:38:52.836998: W tensorflow/compiler/tf2tensorrt/utils/py_utils.cc:38] TF-TRT Warning: Could not find TensorRT\n",
            "Traceback (most recent call last):\n",
            "  File \"/tfc/models/tfci.py\", line 386, in <module>\n",
            "    app.run(main, flags_parser=parse_args)\n",
            "  File \"/usr/local/lib/python3.10/dist-packages/absl/app.py\", line 308, in run\n",
            "    _run_main(main, args)\n",
            "  File \"/usr/local/lib/python3.10/dist-packages/absl/app.py\", line 254, in _run_main\n",
            "    sys.exit(main(argv))\n",
            "  File \"/tfc/models/tfci.py\", line 374, in main\n",
            "    decompress(args.input_file, args.output_file)\n",
            "  File \"/tfc/models/tfci.py\", line 193, in decompress\n",
            "    packed = tfc.PackedTensors(f.read())\n",
            "  File \"/usr/local/lib/python3.10/dist-packages/tensorflow/python/lib/io/file_io.py\", line 116, in read\n",
            "    self._preread_check()\n",
            "  File \"/usr/local/lib/python3.10/dist-packages/tensorflow/python/lib/io/file_io.py\", line 77, in _preread_check\n",
            "    self._read_buf = _pywrap_file_io.BufferedInputStream(\n",
            "tensorflow.python.framework.errors_impl.NotFoundError: /content/01.png.tfci; No such file or directory\n"
          ]
        }
      ],
      "source": [
        "!python tfci.py compress  /content/01.png\n",
        "!python tfci.py decompress /content/01.png.tfci"
      ]
    },
    {
      "cell_type": "code",
      "execution_count": 15,
      "metadata": {
        "colab": {
          "base_uri": "https://localhost:8080/"
        },
        "id": "31x1PDMUJcZS",
        "outputId": "a224807f-b75e-429c-f852-acbe82954f22"
      },
      "outputs": [
        {
          "name": "stdout",
          "output_type": "stream",
          "text": [
            "2024-06-15 04:29:01.430222: E tensorflow/compiler/xla/stream_executor/cuda/cuda_dnn.cc:9342] Unable to register cuDNN factory: Attempting to register factory for plugin cuDNN when one has already been registered\n",
            "2024-06-15 04:29:01.430275: E tensorflow/compiler/xla/stream_executor/cuda/cuda_fft.cc:609] Unable to register cuFFT factory: Attempting to register factory for plugin cuFFT when one has already been registered\n",
            "2024-06-15 04:29:01.430325: E tensorflow/compiler/xla/stream_executor/cuda/cuda_blas.cc:1518] Unable to register cuBLAS factory: Attempting to register factory for plugin cuBLAS when one has already been registered\n",
            "2024-06-15 04:29:02.458924: W tensorflow/compiler/tf2tensorrt/utils/py_utils.cc:38] TF-TRT Warning: Could not find TensorRT\n",
            "2024-06-15 04:29:04.335037: W tensorflow/core/common_runtime/gpu/gpu_device.cc:2211] Cannot dlopen some GPU libraries. Please make sure the missing libraries mentioned above are installed properly if you would like to use GPU. Follow the guide at https://www.tensorflow.org/install/gpu for how to download and setup the required libraries for your platform.\n",
            "Skipping registering GPU devices...\n",
            "INFO:tensorflow:Saver not created because there are no variables in the graph to restore\n",
            "I0615 04:29:04.460938 133148601770624 saver.py:1635] Saver not created because there are no variables in the graph to restore\n",
            "2024-06-15 04:29:06.465240: E tensorflow/compiler/xla/stream_executor/cuda/cuda_dnn.cc:9342] Unable to register cuDNN factory: Attempting to register factory for plugin cuDNN when one has already been registered\n",
            "2024-06-15 04:29:06.465295: E tensorflow/compiler/xla/stream_executor/cuda/cuda_fft.cc:609] Unable to register cuFFT factory: Attempting to register factory for plugin cuFFT when one has already been registered\n",
            "2024-06-15 04:29:06.465346: E tensorflow/compiler/xla/stream_executor/cuda/cuda_blas.cc:1518] Unable to register cuBLAS factory: Attempting to register factory for plugin cuBLAS when one has already been registered\n",
            "2024-06-15 04:29:07.928585: W tensorflow/compiler/tf2tensorrt/utils/py_utils.cc:38] TF-TRT Warning: Could not find TensorRT\n",
            "2024-06-15 04:29:10.067593: W tensorflow/core/common_runtime/gpu/gpu_device.cc:2211] Cannot dlopen some GPU libraries. Please make sure the missing libraries mentioned above are installed properly if you would like to use GPU. Follow the guide at https://www.tensorflow.org/install/gpu for how to download and setup the required libraries for your platform.\n",
            "Skipping registering GPU devices...\n",
            "INFO:tensorflow:Saver not created because there are no variables in the graph to restore\n",
            "I0615 04:29:10.181224 138564270076544 saver.py:1635] Saver not created because there are no variables in the graph to restore\n",
            "2024-06-15 04:29:10.815230: W tensorflow/tsl/framework/cpu_allocator_impl.cc:83] Allocation of 43059200 exceeds 10% of free system memory.\n",
            "2024-06-15 04:29:12.106854: E tensorflow/compiler/xla/stream_executor/cuda/cuda_dnn.cc:9342] Unable to register cuDNN factory: Attempting to register factory for plugin cuDNN when one has already been registered\n",
            "2024-06-15 04:29:12.106906: E tensorflow/compiler/xla/stream_executor/cuda/cuda_fft.cc:609] Unable to register cuFFT factory: Attempting to register factory for plugin cuFFT when one has already been registered\n",
            "2024-06-15 04:29:12.106952: E tensorflow/compiler/xla/stream_executor/cuda/cuda_blas.cc:1518] Unable to register cuBLAS factory: Attempting to register factory for plugin cuBLAS when one has already been registered\n",
            "2024-06-15 04:29:13.088243: W tensorflow/compiler/tf2tensorrt/utils/py_utils.cc:38] TF-TRT Warning: Could not find TensorRT\n",
            "2024-06-15 04:29:14.978748: W tensorflow/core/common_runtime/gpu/gpu_device.cc:2211] Cannot dlopen some GPU libraries. Please make sure the missing libraries mentioned above are installed properly if you would like to use GPU. Follow the guide at https://www.tensorflow.org/install/gpu for how to download and setup the required libraries for your platform.\n",
            "Skipping registering GPU devices...\n",
            "INFO:tensorflow:Saver not created because there are no variables in the graph to restore\n",
            "I0615 04:29:15.099928 140242737967744 saver.py:1635] Saver not created because there are no variables in the graph to restore\n",
            "2024-06-15 04:29:16.707506: E tensorflow/compiler/xla/stream_executor/cuda/cuda_dnn.cc:9342] Unable to register cuDNN factory: Attempting to register factory for plugin cuDNN when one has already been registered\n",
            "2024-06-15 04:29:16.707561: E tensorflow/compiler/xla/stream_executor/cuda/cuda_fft.cc:609] Unable to register cuFFT factory: Attempting to register factory for plugin cuFFT when one has already been registered\n",
            "2024-06-15 04:29:16.707602: E tensorflow/compiler/xla/stream_executor/cuda/cuda_blas.cc:1518] Unable to register cuBLAS factory: Attempting to register factory for plugin cuBLAS when one has already been registered\n",
            "2024-06-15 04:29:17.700717: W tensorflow/compiler/tf2tensorrt/utils/py_utils.cc:38] TF-TRT Warning: Could not find TensorRT\n",
            "2024-06-15 04:29:20.061633: W tensorflow/core/common_runtime/gpu/gpu_device.cc:2211] Cannot dlopen some GPU libraries. Please make sure the missing libraries mentioned above are installed properly if you would like to use GPU. Follow the guide at https://www.tensorflow.org/install/gpu for how to download and setup the required libraries for your platform.\n",
            "Skipping registering GPU devices...\n",
            "INFO:tensorflow:Saver not created because there are no variables in the graph to restore\n",
            "I0615 04:29:20.217298 134110611657344 saver.py:1635] Saver not created because there are no variables in the graph to restore\n",
            "2024-06-15 04:29:21.129765: W tensorflow/tsl/framework/cpu_allocator_impl.cc:83] Allocation of 43059200 exceeds 10% of free system memory.\n",
            "2024-06-15 04:29:22.656202: E tensorflow/compiler/xla/stream_executor/cuda/cuda_dnn.cc:9342] Unable to register cuDNN factory: Attempting to register factory for plugin cuDNN when one has already been registered\n",
            "2024-06-15 04:29:22.656258: E tensorflow/compiler/xla/stream_executor/cuda/cuda_fft.cc:609] Unable to register cuFFT factory: Attempting to register factory for plugin cuFFT when one has already been registered\n",
            "2024-06-15 04:29:22.656305: E tensorflow/compiler/xla/stream_executor/cuda/cuda_blas.cc:1518] Unable to register cuBLAS factory: Attempting to register factory for plugin cuBLAS when one has already been registered\n",
            "2024-06-15 04:29:23.638231: W tensorflow/compiler/tf2tensorrt/utils/py_utils.cc:38] TF-TRT Warning: Could not find TensorRT\n",
            "2024-06-15 04:29:25.505996: W tensorflow/core/common_runtime/gpu/gpu_device.cc:2211] Cannot dlopen some GPU libraries. Please make sure the missing libraries mentioned above are installed properly if you would like to use GPU. Follow the guide at https://www.tensorflow.org/install/gpu for how to download and setup the required libraries for your platform.\n",
            "Skipping registering GPU devices...\n",
            "INFO:tensorflow:Saver not created because there are no variables in the graph to restore\n",
            "I0615 04:29:25.635871 139049017205376 saver.py:1635] Saver not created because there are no variables in the graph to restore\n",
            "2024-06-15 04:29:27.155579: E tensorflow/compiler/xla/stream_executor/cuda/cuda_dnn.cc:9342] Unable to register cuDNN factory: Attempting to register factory for plugin cuDNN when one has already been registered\n",
            "2024-06-15 04:29:27.155628: E tensorflow/compiler/xla/stream_executor/cuda/cuda_fft.cc:609] Unable to register cuFFT factory: Attempting to register factory for plugin cuFFT when one has already been registered\n",
            "2024-06-15 04:29:27.155669: E tensorflow/compiler/xla/stream_executor/cuda/cuda_blas.cc:1518] Unable to register cuBLAS factory: Attempting to register factory for plugin cuBLAS when one has already been registered\n",
            "2024-06-15 04:29:28.154937: W tensorflow/compiler/tf2tensorrt/utils/py_utils.cc:38] TF-TRT Warning: Could not find TensorRT\n",
            "2024-06-15 04:29:30.032129: W tensorflow/core/common_runtime/gpu/gpu_device.cc:2211] Cannot dlopen some GPU libraries. Please make sure the missing libraries mentioned above are installed properly if you would like to use GPU. Follow the guide at https://www.tensorflow.org/install/gpu for how to download and setup the required libraries for your platform.\n",
            "Skipping registering GPU devices...\n",
            "INFO:tensorflow:Saver not created because there are no variables in the graph to restore\n",
            "I0615 04:29:30.135874 134971797889664 saver.py:1635] Saver not created because there are no variables in the graph to restore\n",
            "2024-06-15 04:29:30.791951: W tensorflow/tsl/framework/cpu_allocator_impl.cc:83] Allocation of 43059200 exceeds 10% of free system memory.\n",
            "2024-06-15 04:29:32.175886: E tensorflow/compiler/xla/stream_executor/cuda/cuda_dnn.cc:9342] Unable to register cuDNN factory: Attempting to register factory for plugin cuDNN when one has already been registered\n",
            "2024-06-15 04:29:32.175947: E tensorflow/compiler/xla/stream_executor/cuda/cuda_fft.cc:609] Unable to register cuFFT factory: Attempting to register factory for plugin cuFFT when one has already been registered\n",
            "2024-06-15 04:29:32.175998: E tensorflow/compiler/xla/stream_executor/cuda/cuda_blas.cc:1518] Unable to register cuBLAS factory: Attempting to register factory for plugin cuBLAS when one has already been registered\n",
            "2024-06-15 04:29:33.678992: W tensorflow/compiler/tf2tensorrt/utils/py_utils.cc:38] TF-TRT Warning: Could not find TensorRT\n",
            "2024-06-15 04:29:36.082396: W tensorflow/core/common_runtime/gpu/gpu_device.cc:2211] Cannot dlopen some GPU libraries. Please make sure the missing libraries mentioned above are installed properly if you would like to use GPU. Follow the guide at https://www.tensorflow.org/install/gpu for how to download and setup the required libraries for your platform.\n",
            "Skipping registering GPU devices...\n",
            "INFO:tensorflow:Saver not created because there are no variables in the graph to restore\n",
            "I0615 04:29:36.216417 132355690099328 saver.py:1635] Saver not created because there are no variables in the graph to restore\n",
            "2024-06-15 04:29:37.818363: E tensorflow/compiler/xla/stream_executor/cuda/cuda_dnn.cc:9342] Unable to register cuDNN factory: Attempting to register factory for plugin cuDNN when one has already been registered\n",
            "2024-06-15 04:29:37.818416: E tensorflow/compiler/xla/stream_executor/cuda/cuda_fft.cc:609] Unable to register cuFFT factory: Attempting to register factory for plugin cuFFT when one has already been registered\n",
            "2024-06-15 04:29:37.818457: E tensorflow/compiler/xla/stream_executor/cuda/cuda_blas.cc:1518] Unable to register cuBLAS factory: Attempting to register factory for plugin cuBLAS when one has already been registered\n",
            "2024-06-15 04:29:38.812729: W tensorflow/compiler/tf2tensorrt/utils/py_utils.cc:38] TF-TRT Warning: Could not find TensorRT\n",
            "2024-06-15 04:29:40.721169: W tensorflow/core/common_runtime/gpu/gpu_device.cc:2211] Cannot dlopen some GPU libraries. Please make sure the missing libraries mentioned above are installed properly if you would like to use GPU. Follow the guide at https://www.tensorflow.org/install/gpu for how to download and setup the required libraries for your platform.\n",
            "Skipping registering GPU devices...\n",
            "INFO:tensorflow:Saver not created because there are no variables in the graph to restore\n",
            "I0615 04:29:40.838231 134446409503360 saver.py:1635] Saver not created because there are no variables in the graph to restore\n",
            "2024-06-15 04:29:41.487651: W tensorflow/tsl/framework/cpu_allocator_impl.cc:83] Allocation of 43059200 exceeds 10% of free system memory.\n",
            "2024-06-15 04:29:42.744188: E tensorflow/compiler/xla/stream_executor/cuda/cuda_dnn.cc:9342] Unable to register cuDNN factory: Attempting to register factory for plugin cuDNN when one has already been registered\n",
            "2024-06-15 04:29:42.744242: E tensorflow/compiler/xla/stream_executor/cuda/cuda_fft.cc:609] Unable to register cuFFT factory: Attempting to register factory for plugin cuFFT when one has already been registered\n",
            "2024-06-15 04:29:42.744286: E tensorflow/compiler/xla/stream_executor/cuda/cuda_blas.cc:1518] Unable to register cuBLAS factory: Attempting to register factory for plugin cuBLAS when one has already been registered\n",
            "2024-06-15 04:29:43.718526: W tensorflow/compiler/tf2tensorrt/utils/py_utils.cc:38] TF-TRT Warning: Could not find TensorRT\n",
            "2024-06-15 04:29:45.796762: W tensorflow/core/common_runtime/gpu/gpu_device.cc:2211] Cannot dlopen some GPU libraries. Please make sure the missing libraries mentioned above are installed properly if you would like to use GPU. Follow the guide at https://www.tensorflow.org/install/gpu for how to download and setup the required libraries for your platform.\n",
            "Skipping registering GPU devices...\n",
            "INFO:tensorflow:Saver not created because there are no variables in the graph to restore\n",
            "I0615 04:29:45.971181 133542810763904 saver.py:1635] Saver not created because there are no variables in the graph to restore\n",
            "2024-06-15 04:29:48.085312: E tensorflow/compiler/xla/stream_executor/cuda/cuda_dnn.cc:9342] Unable to register cuDNN factory: Attempting to register factory for plugin cuDNN when one has already been registered\n",
            "2024-06-15 04:29:48.085370: E tensorflow/compiler/xla/stream_executor/cuda/cuda_fft.cc:609] Unable to register cuFFT factory: Attempting to register factory for plugin cuFFT when one has already been registered\n",
            "2024-06-15 04:29:48.085411: E tensorflow/compiler/xla/stream_executor/cuda/cuda_blas.cc:1518] Unable to register cuBLAS factory: Attempting to register factory for plugin cuBLAS when one has already been registered\n",
            "2024-06-15 04:29:49.076456: W tensorflow/compiler/tf2tensorrt/utils/py_utils.cc:38] TF-TRT Warning: Could not find TensorRT\n",
            "2024-06-15 04:29:50.948284: W tensorflow/core/common_runtime/gpu/gpu_device.cc:2211] Cannot dlopen some GPU libraries. Please make sure the missing libraries mentioned above are installed properly if you would like to use GPU. Follow the guide at https://www.tensorflow.org/install/gpu for how to download and setup the required libraries for your platform.\n",
            "Skipping registering GPU devices...\n",
            "INFO:tensorflow:Saver not created because there are no variables in the graph to restore\n",
            "I0615 04:29:51.051626 138040760251008 saver.py:1635] Saver not created because there are no variables in the graph to restore\n",
            "2024-06-15 04:29:51.700440: W tensorflow/tsl/framework/cpu_allocator_impl.cc:83] Allocation of 43059200 exceeds 10% of free system memory.\n",
            "2024-06-15 04:29:52.975402: E tensorflow/compiler/xla/stream_executor/cuda/cuda_dnn.cc:9342] Unable to register cuDNN factory: Attempting to register factory for plugin cuDNN when one has already been registered\n",
            "2024-06-15 04:29:52.975458: E tensorflow/compiler/xla/stream_executor/cuda/cuda_fft.cc:609] Unable to register cuFFT factory: Attempting to register factory for plugin cuFFT when one has already been registered\n",
            "2024-06-15 04:29:52.975498: E tensorflow/compiler/xla/stream_executor/cuda/cuda_blas.cc:1518] Unable to register cuBLAS factory: Attempting to register factory for plugin cuBLAS when one has already been registered\n",
            "2024-06-15 04:29:53.953323: W tensorflow/compiler/tf2tensorrt/utils/py_utils.cc:38] TF-TRT Warning: Could not find TensorRT\n",
            "2024-06-15 04:29:55.836664: W tensorflow/core/common_runtime/gpu/gpu_device.cc:2211] Cannot dlopen some GPU libraries. Please make sure the missing libraries mentioned above are installed properly if you would like to use GPU. Follow the guide at https://www.tensorflow.org/install/gpu for how to download and setup the required libraries for your platform.\n",
            "Skipping registering GPU devices...\n",
            "INFO:tensorflow:Saver not created because there are no variables in the graph to restore\n",
            "I0615 04:29:55.969006 140250189996672 saver.py:1635] Saver not created because there are no variables in the graph to restore\n",
            "2024-06-15 04:29:57.614281: E tensorflow/compiler/xla/stream_executor/cuda/cuda_dnn.cc:9342] Unable to register cuDNN factory: Attempting to register factory for plugin cuDNN when one has already been registered\n",
            "2024-06-15 04:29:57.614335: E tensorflow/compiler/xla/stream_executor/cuda/cuda_fft.cc:609] Unable to register cuFFT factory: Attempting to register factory for plugin cuFFT when one has already been registered\n",
            "2024-06-15 04:29:57.614384: E tensorflow/compiler/xla/stream_executor/cuda/cuda_blas.cc:1518] Unable to register cuBLAS factory: Attempting to register factory for plugin cuBLAS when one has already been registered\n",
            "2024-06-15 04:29:58.962792: W tensorflow/compiler/tf2tensorrt/utils/py_utils.cc:38] TF-TRT Warning: Could not find TensorRT\n",
            "2024-06-15 04:30:01.525485: W tensorflow/core/common_runtime/gpu/gpu_device.cc:2211] Cannot dlopen some GPU libraries. Please make sure the missing libraries mentioned above are installed properly if you would like to use GPU. Follow the guide at https://www.tensorflow.org/install/gpu for how to download and setup the required libraries for your platform.\n",
            "Skipping registering GPU devices...\n",
            "INFO:tensorflow:Saver not created because there are no variables in the graph to restore\n",
            "I0615 04:30:01.630812 136214072898176 saver.py:1635] Saver not created because there are no variables in the graph to restore\n",
            "2024-06-15 04:30:02.290758: W tensorflow/tsl/framework/cpu_allocator_impl.cc:83] Allocation of 43059200 exceeds 10% of free system memory.\n",
            "2024-06-15 04:30:03.657379: E tensorflow/compiler/xla/stream_executor/cuda/cuda_dnn.cc:9342] Unable to register cuDNN factory: Attempting to register factory for plugin cuDNN when one has already been registered\n",
            "2024-06-15 04:30:03.657457: E tensorflow/compiler/xla/stream_executor/cuda/cuda_fft.cc:609] Unable to register cuFFT factory: Attempting to register factory for plugin cuFFT when one has already been registered\n",
            "2024-06-15 04:30:03.657508: E tensorflow/compiler/xla/stream_executor/cuda/cuda_blas.cc:1518] Unable to register cuBLAS factory: Attempting to register factory for plugin cuBLAS when one has already been registered\n",
            "2024-06-15 04:30:04.660083: W tensorflow/compiler/tf2tensorrt/utils/py_utils.cc:38] TF-TRT Warning: Could not find TensorRT\n",
            "2024-06-15 04:30:06.553251: W tensorflow/core/common_runtime/gpu/gpu_device.cc:2211] Cannot dlopen some GPU libraries. Please make sure the missing libraries mentioned above are installed properly if you would like to use GPU. Follow the guide at https://www.tensorflow.org/install/gpu for how to download and setup the required libraries for your platform.\n",
            "Skipping registering GPU devices...\n",
            "INFO:tensorflow:Saver not created because there are no variables in the graph to restore\n",
            "I0615 04:30:06.675269 133444803699328 saver.py:1635] Saver not created because there are no variables in the graph to restore\n",
            "2024-06-15 04:30:08.291609: E tensorflow/compiler/xla/stream_executor/cuda/cuda_dnn.cc:9342] Unable to register cuDNN factory: Attempting to register factory for plugin cuDNN when one has already been registered\n",
            "2024-06-15 04:30:08.291662: E tensorflow/compiler/xla/stream_executor/cuda/cuda_fft.cc:609] Unable to register cuFFT factory: Attempting to register factory for plugin cuFFT when one has already been registered\n",
            "2024-06-15 04:30:08.291731: E tensorflow/compiler/xla/stream_executor/cuda/cuda_blas.cc:1518] Unable to register cuBLAS factory: Attempting to register factory for plugin cuBLAS when one has already been registered\n",
            "2024-06-15 04:30:09.280883: W tensorflow/compiler/tf2tensorrt/utils/py_utils.cc:38] TF-TRT Warning: Could not find TensorRT\n",
            "2024-06-15 04:30:11.202174: W tensorflow/core/common_runtime/gpu/gpu_device.cc:2211] Cannot dlopen some GPU libraries. Please make sure the missing libraries mentioned above are installed properly if you would like to use GPU. Follow the guide at https://www.tensorflow.org/install/gpu for how to download and setup the required libraries for your platform.\n",
            "Skipping registering GPU devices...\n",
            "INFO:tensorflow:Saver not created because there are no variables in the graph to restore\n",
            "I0615 04:30:11.355430 134708860600960 saver.py:1635] Saver not created because there are no variables in the graph to restore\n",
            "2024-06-15 04:30:12.251498: W tensorflow/tsl/framework/cpu_allocator_impl.cc:83] Allocation of 43059200 exceeds 10% of free system memory.\n",
            "2024-06-15 04:30:13.949315: E tensorflow/compiler/xla/stream_executor/cuda/cuda_dnn.cc:9342] Unable to register cuDNN factory: Attempting to register factory for plugin cuDNN when one has already been registered\n",
            "2024-06-15 04:30:13.949371: E tensorflow/compiler/xla/stream_executor/cuda/cuda_fft.cc:609] Unable to register cuFFT factory: Attempting to register factory for plugin cuFFT when one has already been registered\n",
            "2024-06-15 04:30:13.949420: E tensorflow/compiler/xla/stream_executor/cuda/cuda_blas.cc:1518] Unable to register cuBLAS factory: Attempting to register factory for plugin cuBLAS when one has already been registered\n",
            "2024-06-15 04:30:14.937824: W tensorflow/compiler/tf2tensorrt/utils/py_utils.cc:38] TF-TRT Warning: Could not find TensorRT\n",
            "2024-06-15 04:30:16.843501: W tensorflow/core/common_runtime/gpu/gpu_device.cc:2211] Cannot dlopen some GPU libraries. Please make sure the missing libraries mentioned above are installed properly if you would like to use GPU. Follow the guide at https://www.tensorflow.org/install/gpu for how to download and setup the required libraries for your platform.\n",
            "Skipping registering GPU devices...\n",
            "INFO:tensorflow:Saver not created because there are no variables in the graph to restore\n",
            "I0615 04:30:16.966883 139087061287552 saver.py:1635] Saver not created because there are no variables in the graph to restore\n",
            "2024-06-15 04:30:18.659282: E tensorflow/compiler/xla/stream_executor/cuda/cuda_dnn.cc:9342] Unable to register cuDNN factory: Attempting to register factory for plugin cuDNN when one has already been registered\n",
            "2024-06-15 04:30:18.659335: E tensorflow/compiler/xla/stream_executor/cuda/cuda_fft.cc:609] Unable to register cuFFT factory: Attempting to register factory for plugin cuFFT when one has already been registered\n",
            "2024-06-15 04:30:18.659374: E tensorflow/compiler/xla/stream_executor/cuda/cuda_blas.cc:1518] Unable to register cuBLAS factory: Attempting to register factory for plugin cuBLAS when one has already been registered\n",
            "2024-06-15 04:30:19.640512: W tensorflow/compiler/tf2tensorrt/utils/py_utils.cc:38] TF-TRT Warning: Could not find TensorRT\n",
            "2024-06-15 04:30:21.511180: W tensorflow/core/common_runtime/gpu/gpu_device.cc:2211] Cannot dlopen some GPU libraries. Please make sure the missing libraries mentioned above are installed properly if you would like to use GPU. Follow the guide at https://www.tensorflow.org/install/gpu for how to download and setup the required libraries for your platform.\n",
            "Skipping registering GPU devices...\n",
            "INFO:tensorflow:Saver not created because there are no variables in the graph to restore\n",
            "I0615 04:30:21.615110 140388635714176 saver.py:1635] Saver not created because there are no variables in the graph to restore\n",
            "2024-06-15 04:30:22.239996: W tensorflow/tsl/framework/cpu_allocator_impl.cc:83] Allocation of 43059200 exceeds 10% of free system memory.\n",
            "2024-06-15 04:30:23.558242: E tensorflow/compiler/xla/stream_executor/cuda/cuda_dnn.cc:9342] Unable to register cuDNN factory: Attempting to register factory for plugin cuDNN when one has already been registered\n",
            "2024-06-15 04:30:23.558295: E tensorflow/compiler/xla/stream_executor/cuda/cuda_fft.cc:609] Unable to register cuFFT factory: Attempting to register factory for plugin cuFFT when one has already been registered\n",
            "2024-06-15 04:30:23.558345: E tensorflow/compiler/xla/stream_executor/cuda/cuda_blas.cc:1518] Unable to register cuBLAS factory: Attempting to register factory for plugin cuBLAS when one has already been registered\n",
            "2024-06-15 04:30:24.889721: W tensorflow/compiler/tf2tensorrt/utils/py_utils.cc:38] TF-TRT Warning: Could not find TensorRT\n",
            "2024-06-15 04:30:27.472755: W tensorflow/core/common_runtime/gpu/gpu_device.cc:2211] Cannot dlopen some GPU libraries. Please make sure the missing libraries mentioned above are installed properly if you would like to use GPU. Follow the guide at https://www.tensorflow.org/install/gpu for how to download and setup the required libraries for your platform.\n",
            "Skipping registering GPU devices...\n",
            "INFO:tensorflow:Saver not created because there are no variables in the graph to restore\n",
            "I0615 04:30:27.595679 140386682503808 saver.py:1635] Saver not created because there are no variables in the graph to restore\n",
            "2024-06-15 04:30:29.156046: E tensorflow/compiler/xla/stream_executor/cuda/cuda_dnn.cc:9342] Unable to register cuDNN factory: Attempting to register factory for plugin cuDNN when one has already been registered\n",
            "2024-06-15 04:30:29.156103: E tensorflow/compiler/xla/stream_executor/cuda/cuda_fft.cc:609] Unable to register cuFFT factory: Attempting to register factory for plugin cuFFT when one has already been registered\n",
            "2024-06-15 04:30:29.156150: E tensorflow/compiler/xla/stream_executor/cuda/cuda_blas.cc:1518] Unable to register cuBLAS factory: Attempting to register factory for plugin cuBLAS when one has already been registered\n",
            "2024-06-15 04:30:30.197604: W tensorflow/compiler/tf2tensorrt/utils/py_utils.cc:38] TF-TRT Warning: Could not find TensorRT\n",
            "2024-06-15 04:30:32.139316: W tensorflow/core/common_runtime/gpu/gpu_device.cc:2211] Cannot dlopen some GPU libraries. Please make sure the missing libraries mentioned above are installed properly if you would like to use GPU. Follow the guide at https://www.tensorflow.org/install/gpu for how to download and setup the required libraries for your platform.\n",
            "Skipping registering GPU devices...\n",
            "INFO:tensorflow:Saver not created because there are no variables in the graph to restore\n",
            "I0615 04:30:32.246144 134141554631296 saver.py:1635] Saver not created because there are no variables in the graph to restore\n",
            "2024-06-15 04:30:32.927679: W tensorflow/tsl/framework/cpu_allocator_impl.cc:83] Allocation of 43059200 exceeds 10% of free system memory.\n",
            "2024-06-15 04:30:34.303578: E tensorflow/compiler/xla/stream_executor/cuda/cuda_dnn.cc:9342] Unable to register cuDNN factory: Attempting to register factory for plugin cuDNN when one has already been registered\n",
            "2024-06-15 04:30:34.303632: E tensorflow/compiler/xla/stream_executor/cuda/cuda_fft.cc:609] Unable to register cuFFT factory: Attempting to register factory for plugin cuFFT when one has already been registered\n",
            "2024-06-15 04:30:34.303678: E tensorflow/compiler/xla/stream_executor/cuda/cuda_blas.cc:1518] Unable to register cuBLAS factory: Attempting to register factory for plugin cuBLAS when one has already been registered\n",
            "2024-06-15 04:30:35.308075: W tensorflow/compiler/tf2tensorrt/utils/py_utils.cc:38] TF-TRT Warning: Could not find TensorRT\n",
            "2024-06-15 04:30:37.357035: W tensorflow/core/common_runtime/gpu/gpu_device.cc:2211] Cannot dlopen some GPU libraries. Please make sure the missing libraries mentioned above are installed properly if you would like to use GPU. Follow the guide at https://www.tensorflow.org/install/gpu for how to download and setup the required libraries for your platform.\n",
            "Skipping registering GPU devices...\n",
            "INFO:tensorflow:Saver not created because there are no variables in the graph to restore\n",
            "I0615 04:30:37.574426 140060936364672 saver.py:1635] Saver not created because there are no variables in the graph to restore\n",
            "2024-06-15 04:30:40.202241: E tensorflow/compiler/xla/stream_executor/cuda/cuda_dnn.cc:9342] Unable to register cuDNN factory: Attempting to register factory for plugin cuDNN when one has already been registered\n",
            "2024-06-15 04:30:40.202308: E tensorflow/compiler/xla/stream_executor/cuda/cuda_fft.cc:609] Unable to register cuFFT factory: Attempting to register factory for plugin cuFFT when one has already been registered\n",
            "2024-06-15 04:30:40.202354: E tensorflow/compiler/xla/stream_executor/cuda/cuda_blas.cc:1518] Unable to register cuBLAS factory: Attempting to register factory for plugin cuBLAS when one has already been registered\n",
            "2024-06-15 04:30:42.593624: W tensorflow/compiler/tf2tensorrt/utils/py_utils.cc:38] TF-TRT Warning: Could not find TensorRT\n",
            "2024-06-15 04:30:44.838011: W tensorflow/core/common_runtime/gpu/gpu_device.cc:2211] Cannot dlopen some GPU libraries. Please make sure the missing libraries mentioned above are installed properly if you would like to use GPU. Follow the guide at https://www.tensorflow.org/install/gpu for how to download and setup the required libraries for your platform.\n",
            "Skipping registering GPU devices...\n",
            "INFO:tensorflow:Saver not created because there are no variables in the graph to restore\n",
            "I0615 04:30:44.945559 133294189032064 saver.py:1635] Saver not created because there are no variables in the graph to restore\n",
            "2024-06-15 04:30:45.594787: W tensorflow/tsl/framework/cpu_allocator_impl.cc:83] Allocation of 43059200 exceeds 10% of free system memory.\n"
          ]
        }
      ],
      "source": [
        "!python tfci.py compress  /content/01.png\n",
        "!python tfci.py decompress /content/01.png.tfci\n",
        "!python tfci.py compress bmshj2018-factorized-msssim-1 /content/02.png\n",
        "!python tfci.py decompress /content/02.png.tfci\n",
        "!python tfci.py compress bmshj2018-factorized-msssim-1 /content/03.png\n",
        "!python tfci.py decompress /content/03.png.tfci\n",
        "!python tfci.py compress bmshj2018-factorized-msssim-1 /content/04.png\n",
        "!python tfci.py decompress /content/04.png.tfci\n",
        "!python tfci.py compress bmshj2018-factorized-msssim-1 /content/05.png\n",
        "!python tfci.py decompress /content/05.png.tfci\n",
        "!python tfci.py compress bmshj2018-factorized-msssim-1 /content/06.png\n",
        "!python tfci.py decompress /content/06.png.tfci\n",
        "!python tfci.py compress bmshj2018-factorized-msssim-1 /content/07.png\n",
        "!python tfci.py decompress /content/07.png.tfci\n",
        "!python tfci.py compress bmshj2018-factorized-msssim-1 /content/08.png\n",
        "!python tfci.py decompress /content/08.png.tfci\n",
        "!python tfci.py compress bmshj2018-factorized-msssim-1 /content/09.png\n",
        "!python tfci.py decompress /content/09.png.tfci\n",
        "!python tfci.py compress bmshj2018-factorized-msssim-1 /content/10.png\n",
        "!python tfci.py decompress /content/10.png.tfci"
      ]
    },
    {
      "cell_type": "markdown",
      "metadata": {
        "id": "0MrCm_MCMfjZ"
      },
      "source": [
        "Calculate file of compressed data divided to initial file size (1327104)"
      ]
    },
    {
      "cell_type": "code",
      "execution_count": 18,
      "metadata": {
        "colab": {
          "base_uri": "https://localhost:8080/"
        },
        "id": "TsVAGyA8MJc2",
        "outputId": "e25c01ae-5100-4788-ef12-d2ae8c614177"
      },
      "outputs": [
        {
          "name": "stdout",
          "output_type": "stream",
          "text": [
            "file_name: 1 : 0.0348\n",
            "file_name: 2 : 0.0273\n",
            "file_name: 3 : 0.0268\n",
            "file_name: 4 : 0.0315\n",
            "file_name: 5 : 0.0230\n",
            "file_name: 6 : 0.0276\n",
            "file_name: 7 : 0.0266\n",
            "file_name: 8 : 0.0278\n",
            "file_name: 9 : 0.0192\n",
            "file_name: 10 : 0.0224\n"
          ]
        }
      ],
      "source": [
        "for i in range(1, 11):\n",
        "    file_name = f\"/content/{i:02}.png.tfci\"\n",
        "    file_size = os.stat(file_name).st_size\n",
        "    relative_size = 8 * file_size / 230400\n",
        "    print(f\"file_name: {i} : {relative_size:.4f}\")"
      ]
    },
    {
      "cell_type": "markdown",
      "metadata": {
        "id": "RVub--VrMVQc"
      },
      "source": [
        "Calculate N_compression (png, bmp)"
      ]
    },
    {
      "cell_type": "code",
      "execution_count": 26,
      "metadata": {
        "colab": {
          "base_uri": "https://localhost:8080/"
        },
        "id": "z8yW27e-MgjD",
        "outputId": "953f1945-707a-4903-c3bf-1817bce54af5"
      },
      "outputs": [
        {
          "name": "stdout",
          "output_type": "stream",
          "text": [
            "file_name: 1 : 0.7260\n",
            "file_name: 2 : 0.6663\n",
            "file_name: 3 : 0.5920\n",
            "file_name: 4 : 0.6531\n",
            "file_name: 5 : 0.5885\n",
            "file_name: 6 : 0.6368\n",
            "file_name: 7 : 0.6659\n",
            "file_name: 8 : 0.6928\n",
            "file_name: 9 : 0.5092\n",
            "file_name: 10 : 0.6290\n"
          ]
        }
      ],
      "source": [
        "for i in range(1, 11):\n",
        "  png_file = f\"/content/{i:02}.png.tfci.png\"\n",
        "  bmp_file = f\"/content/{i:02}.png\"\n",
        "  png_size = os.stat(png_file).st_size\n",
        "  bmp_size = os.stat(bmp_file).st_size\n",
        "  N_compression = png_size / bmp_size\n",
        "  print(f\"file_name: {i} : {N_compression:.4f}\")"
      ]
    },
    {
      "cell_type": "code",
      "execution_count": 38,
      "metadata": {
        "colab": {
          "base_uri": "https://localhost:8080/"
        },
        "id": "wXHcmFG0xIq4",
        "outputId": "8dd11270-b33b-497e-94a8-526e2ef19303"
      },
      "outputs": [
        {
          "name": "stdout",
          "output_type": "stream",
          "text": [
            "Average MSE:  575.19\n",
            "Average PSNR:  21.26\n",
            "Average SSIM:  0.6591\n"
          ]
        }
      ],
      "source": [
        "#from skimage.measure import compare_mse\n",
        "import cv2\n",
        "import numpy as np\n",
        "from skimage.metrics import mean_squared_error\n",
        "from skimage.metrics import peak_signal_noise_ratio\n",
        "from skimage.metrics import structural_similarity\n",
        "\n",
        "\n",
        "mse_values = []\n",
        "psnr_values = []\n",
        "ssim_values = []\n",
        "\n",
        "for i in range(1, 11):\n",
        "    if i < 10:\n",
        "        file_name = \"/content/\" + \"0\" + str(i) + \".png\"\n",
        "        file_name1 = \"/content/\" + \"0\" + str(i) + '.png.tfci.png'\n",
        "    else:\n",
        "        file_name = \"/content/\" + \"10\" + \".png\"\n",
        "        file_name1 = \"/content/\" + \"10\" + '.png.tfci.png'\n",
        "\n",
        "    img1 = cv2.imread(file_name)\n",
        "    img2 = cv2.imread(file_name1)\n",
        "\n",
        "    mse = mean_squared_error(img1, img2)\n",
        "    psnr = peak_signal_noise_ratio(img1, img2)\n",
        "    ssim = structural_similarity(img1, img2, multichannel=True, win_size=3)\n",
        "\n",
        "    mse_values.append(mse)\n",
        "    psnr_values.append(psnr)\n",
        "    ssim_values.append(ssim)\n",
        "\n",
        "avg_mse = np.mean(mse_values)\n",
        "avg_psnr = np.mean(psnr_values)\n",
        "avg_ssim = np.mean(ssim_values)\n",
        "\n",
        "print('Average MSE: ', round(avg_mse, 2))\n",
        "print('Average PSNR: ', round(avg_psnr, 2))\n",
        "print('Average SSIM: ', round(avg_ssim, 4))"
      ]
    },
    {
      "cell_type": "code",
      "execution_count": 35,
      "metadata": {
        "colab": {
          "base_uri": "https://localhost:8080/"
        },
        "id": "p6XnKlse0BHE",
        "outputId": "2f1f40ff-13a3-448b-e3b3-b82bba32a448"
      },
      "outputs": [
        {
          "name": "stdout",
          "output_type": "stream",
          "text": [
            "MSE:  238.5561888818027\n",
            "PSNR:  24.35489672891218\n",
            "SSIM:  0.7931585933759056\n"
          ]
        }
      ],
      "source": [
        "print('MSE: ', MSE)\n",
        "print('PSNR: ', PSNR)\n",
        "print('SSIM: ', SSIM)"
      ]
    }
  ],
  "metadata": {
    "accelerator": "TPU",
    "colab": {
      "gpuType": "V28",
      "name": "Untitled18.ipynb",
      "provenance": []
    },
    "kernelspec": {
      "display_name": "Python 3",
      "name": "python3"
    },
    "language_info": {
      "name": "python",
      "version": "3.6.8"
    }
  },
  "nbformat": 4,
  "nbformat_minor": 0
}
